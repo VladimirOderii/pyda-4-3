{
 "cells": [
  {
   "cell_type": "code",
   "execution_count": 3,
   "metadata": {},
   "outputs": [
    {
     "name": "stdout",
     "output_type": "stream",
     "text": [
      "Diagonal elements sum = 103\n"
     ]
    }
   ],
   "source": [
    "# Task 1\n",
    "data = [\n",
    "[13, 25, 23, 34],\n",
    "[45, 32, 44, 47],\n",
    "[12, 33, 23, 95],\n",
    "[13, 53, 34, 35],\n",
    "]\n",
    "\n",
    "\n",
    "def diagonal_sum(spisok):\n",
    "    counter=0\n",
    "    elements_sum=0\n",
    "    for i in spisok:\n",
    "        elements_sum+=i[counter]\n",
    "        counter+=1\n",
    "    return(elements_sum)\n",
    "\n",
    "print('Diagonal elements sum =', diagonal_sum(data))\n",
    "    \n"
   ]
  },
  {
   "cell_type": "code",
   "execution_count": 17,
   "metadata": {},
   "outputs": [
    {
     "name": "stdout",
     "output_type": "stream",
     "text": [
      "430\n"
     ]
    }
   ],
   "source": [
    "# Task 2\n",
    "data1 = [1, '5', 'abc', 20, '2']\n",
    "\n",
    "def num_squares(input_list):\n",
    "    square_sum=0\n",
    "    for i in input_list:\n",
    "        if type(i)==int: square_sum+=i**2\n",
    "        elif i.isdigit(): square_sum+=int(i)**2\n",
    "    return(square_sum)\n",
    "\n",
    "print(num_squares(data1))\n",
    "       "
   ]
  },
  {
   "cell_type": "code",
   "execution_count": 46,
   "metadata": {},
   "outputs": [
    {
     "data": {
      "text/plain": [
       "'Фунт стерлингов Соединенного королевства'"
      ]
     },
     "execution_count": 46,
     "metadata": {},
     "output_type": "execute_result"
    }
   ],
   "source": [
    "# Task 3\n",
    "import requests\n",
    "r = requests.get('https://www.cbr-xml-daily.ru/daily_json.js')\n",
    "otvet=r.json()['Valute']\n",
    "\n",
    "def currency_max(argument):\n",
    "    max_rate=0\n",
    "    for j in argument.values():       \n",
    "        if (j['Value']/j['Nominal'])>max_rate and j['CharCode']!='XDR': # Определяем курс 1 единицы и убираем права заимствований \n",
    "            max_rate=j['Value']/j['Nominal']\n",
    "    for j in argument.values():\n",
    "        if (j['Value']/j['Nominal'])==max_rate:\n",
    "            return(j['Name'])\n",
    "\n",
    "currency_max(otvet)\n",
    "            \n",
    "        "
   ]
  },
  {
   "cell_type": "code",
   "execution_count": 116,
   "metadata": {},
   "outputs": [
    {
     "name": "stdout",
     "output_type": "stream",
     "text": [
      "Евро\n",
      "0.48170000000000357\n"
     ]
    }
   ],
   "source": [
    "# Task 4\n",
    "import requests\n",
    "class Rate:\n",
    "    def __init__(self, format='value'):\n",
    "        self.format = format\n",
    "    \n",
    "    def exchange_rates(self):\n",
    "        \"\"\"\n",
    "        Возвращает ответ сервиса с информацией о валютах в виде:\n",
    "        \n",
    "        {\n",
    "            'AMD': {\n",
    "                'CharCode': 'AMD',\n",
    "                'ID': 'R01060',\n",
    "                'Name': 'Армянских драмов',\n",
    "                'Nominal': 100,\n",
    "                'NumCode': '051',\n",
    "                'Previous': 14.103,\n",
    "                'Value': 14.0879\n",
    "                },\n",
    "            ...\n",
    "        }\n",
    "        \"\"\"\n",
    "        r = requests.get('https://www.cbr-xml-daily.ru/daily_json.js')\n",
    "        return r.json()['Valute']\n",
    "    \n",
    "    def make_format(self, currency):\n",
    "        \"\"\"\n",
    "        Возвращает информацию о валюте currency в двух вариантах:\n",
    "        - полная информация о валюте при self.format = 'full':\n",
    "        Rate('full').make_format('EUR')\n",
    "        {\n",
    "            'CharCode': 'EUR',\n",
    "            'ID': 'R01239',\n",
    "            'Name': 'Евро',\n",
    "            'Nominal': 1,\n",
    "            'NumCode': '978',\n",
    "            'Previous': 79.6765,\n",
    "            'Value': 79.4966\n",
    "        }\n",
    "        \n",
    "        Rate('value').make_format('EUR')\n",
    "        79.4966\n",
    "        \"\"\"\n",
    "        response = self.exchange_rates()\n",
    "        \n",
    "        if currency in response:\n",
    "            if self.format == 'full':\n",
    "                return response[currency]\n",
    "            \n",
    "            if self.format == 'value':\n",
    "                return response[currency]['Value']\n",
    "            \n",
    "            if self.format == 'name': # Добавляем формат,который возвращает имя валюты\n",
    "                return response[currency]['Name']\n",
    "        \n",
    "        return 'Error'\n",
    "    \n",
    "    def eur(self, diff = False):\n",
    "        \"\"\"Возвращает курс евро на сегодня в формате self.format если diff=False или возвращает изменение по сравнению с прошлым днем\"\"\"\n",
    "        \n",
    "        if (diff): return (self.exchange_rates()['EUR']['Value']-self.exchange_rates()['EUR']['Previous'])\n",
    "        else : return self.make_format('EUR')\n",
    "        \n",
    "    def usd(self, diff = False):\n",
    "        \"\"\"Возвращает курс доллара на сегодня в формате self.format если diff=False или возвращает изменение по сравнению с прошлым днем\"\"\"\n",
    "        if (diff): return (self.exchange_rates()['USD']['Value']-self.exchange_rates()['USD']['Previous'])\n",
    "        else : return self.make_format('USD')\n",
    "\n",
    "curr = Rate('name')\n",
    "print(curr.eur())\n",
    "print(curr.eur(True))\n"
   ]
  },
  {
   "cell_type": "code",
   "execution_count": 90,
   "metadata": {},
   "outputs": [
    {
     "data": {
      "text/plain": [
       "7"
      ]
     },
     "execution_count": 90,
     "metadata": {},
     "output_type": "execute_result"
    }
   ],
   "source": [
    "# Task 5\n",
    "def Fibonachi(n):\n",
    "    \"\"\"Функция для определения числа Фибоначчи в зависимости от n. Посдедовательность начинается с 0\"\"\"\n",
    "    if n>=0:\n",
    "        if n==0: fib=0\n",
    "        elif n==1: fib=1\n",
    "        elif n>=2: fib=Fibonachi(n-1)+Fibonachi(n-2)\n",
    "        return fib\n",
    "    if n<=0:\n",
    "        if n==0: fib=0\n",
    "        elif n==-1: fib=-1\n",
    "        elif n<=-2: fib=Fibonachi(n+1)+Fibonachi(n+2)\n",
    "        return fib\n",
    "\n",
    "def Fibonachi_sum(n):\n",
    "    \"\"\"Функция для определения суммы n чисел Фибоначчи в зависимости от n\"\"\"\n",
    "    fib_sum=0\n",
    "    if n>=0:\n",
    "        for i in range(n):\n",
    "            fib_sum+=Fibonachi(i)\n",
    "        return fib_sum\n",
    "    elif n<0:\n",
    "        while n<0:\n",
    "            fib_sum+=Fibonachi(n+1)\n",
    "            n+=1\n",
    "        return fib_sum\n",
    "\n",
    "Fibonachi_sum(5)"
   ]
  },
  {
   "cell_type": "code",
   "execution_count": 115,
   "metadata": {},
   "outputs": [
    {
     "data": {
      "text/plain": [
       "{'2018-01-01': {'yandex': {'cpc': 100}}}"
      ]
     },
     "execution_count": 115,
     "metadata": {},
     "output_type": "execute_result"
    }
   ],
   "source": [
    "# Task 6\n",
    "any_list=['2018-01-01','yandex','cpc', 100]\n",
    "def list_to_dict(rand_list):\n",
    "    List_len = len(rand_list)\n",
    "    if List_len<2: return print('Невозможно создать словарь')\n",
    "    elif List_len==2: \n",
    "        New_dict={rand_list[0]:rand_list[1]}\n",
    "        return New_dict\n",
    "    elif List_len>2:\n",
    "        New_dict={rand_list[0]:list_to_dict(rand_list[1:])}\n",
    "        return New_dict\n",
    "    \n",
    "list_to_dict(any_list)"
   ]
  }
 ],
 "metadata": {
  "kernelspec": {
   "display_name": "Python 3",
   "language": "python",
   "name": "python3"
  },
  "language_info": {
   "codemirror_mode": {
    "name": "ipython",
    "version": 3
   },
   "file_extension": ".py",
   "mimetype": "text/x-python",
   "name": "python",
   "nbconvert_exporter": "python",
   "pygments_lexer": "ipython3",
   "version": "3.7.3"
  }
 },
 "nbformat": 4,
 "nbformat_minor": 2
}
